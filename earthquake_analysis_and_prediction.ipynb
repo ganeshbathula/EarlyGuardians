{
  "metadata": {
    "colab": {
      "provenance": [],
      "gpuType": "T4"
    },
    "kernelspec": {
      "name": "python3",
      "display_name": "Python 3"
    },
    "language_info": {
      "name": "python"
    },
    "accelerator": "GPU"
  },
  "nbformat_minor": 0,
  "nbformat": 4,
  "cells": [
    {
      "cell_type": "markdown",
      "source": [
        "\n",
        "# Earthquake Analysis and Prediction"
      ],
      "metadata": {
        "id": "hmvT4Z2GegQy"
      }
    },
    {
      "cell_type": "markdown",
      "source": [
        "# Introduction and Objective:\n",
        "\n",
        "This project aims to predict future earthquakes using Linear Regression on the https://www.kaggle.com/datasets/alessandrolobello/the-ultimate-earthquake-dataset-from-1990-2023, which includes data on over 3 million global earthquakes.\n",
        "\n",
        "The model will be:\n",
        "\n",
        "1. Trained on historical data\n",
        "2. Evaluated on a test set\n",
        "3. Deployed for real-time prediction\n",
        "\n",
        "Goal: Improve the accuracy and reliability of earthquake prediction using machine learning, potentially saving lives and reducing damage.."
      ],
      "metadata": {
        "id": "VCwAjIlNaZP6"
      }
    },
    {
      "cell_type": "code",
      "source": [
        "import os\n",
        "for filename in os.listdir('/content'):\n",
        "    print(filename)"
      ],
      "metadata": {
        "id": "Sbf9w28PNskL"
      },
      "execution_count": null,
      "outputs": []
    },
    {
      "cell_type": "markdown",
      "source": [
        "## 1. Importing necessary libraries:"
      ],
      "metadata": {
        "id": "cdkqxmfpbQUJ"
      }
    },
    {
      "cell_type": "code",
      "source": [
        "# Basics\n",
        "import pandas as pd\n",
        "import numpy as np\n",
        "import matplotlib.pyplot as plt\n",
        "import seaborn as sns\n",
        "\n",
        "# For better plots\n",
        "import plotly.express as px\n",
        "import plotly.graph_objects as go\n",
        "\n",
        "# ML libraries\n",
        "from sklearn.model_selection import train_test_split\n",
        "from sklearn.linear_model import LinearRegression\n",
        "from sklearn.metrics import mean_squared_error\n",
        "from sklearn.metrics import accuracy_score\n",
        "\n",
        "# Deep-learning\n",
        "import tensorflow as tf"
      ],
      "metadata": {
        "id": "Cg8ek-zUbP3a"
      },
      "execution_count": null,
      "outputs": []
    },
    {
      "cell_type": "markdown",
      "source": [
        "## 2. Importing Data:"
      ],
      "metadata": {
        "id": "F0UFyoD-cTBO"
      }
    },
    {
      "cell_type": "code",
      "source": [
        "data = pd.read_csv(\"/content/Eartquakes-1990-2023.csv\")"
      ],
      "metadata": {
        "id": "4FSAmz2TcWNu"
      },
      "execution_count": null,
      "outputs": []
    },
    {
      "cell_type": "markdown",
      "source": [
        "## 3. Understanding the basics of the Data:"
      ],
      "metadata": {
        "id": "XWjeSYBjclmo"
      }
    },
    {
      "cell_type": "code",
      "source": [
        "data.head()"
      ],
      "metadata": {
        "id": "Ej2-VhLockdP"
      },
      "execution_count": null,
      "outputs": []
    },
    {
      "cell_type": "code",
      "source": [
        "data.describe()"
      ],
      "metadata": {
        "id": "hxZo3yM7cqBX"
      },
      "execution_count": null,
      "outputs": []
    },
    {
      "cell_type": "code",
      "source": [
        "data.info()"
      ],
      "metadata": {
        "id": "bPINUfPuhHr_"
      },
      "execution_count": null,
      "outputs": []
    },
    {
      "cell_type": "markdown",
      "source": [
        "Checking for \"Null\" values:"
      ],
      "metadata": {
        "id": "rxSmHXxeiFJf"
      }
    },
    {
      "cell_type": "code",
      "source": [
        "data.isna().sum()"
      ],
      "metadata": {
        "id": "nkN2CsRIibvS"
      },
      "execution_count": null,
      "outputs": []
    },
    {
      "cell_type": "markdown",
      "source": [
        "Great, no \"Null\" values, won't have to go through \"Pre-Processing\" steps 😎😎"
      ],
      "metadata": {
        "id": "X_9nveEHijso"
      }
    },
    {
      "cell_type": "markdown",
      "source": [
        "## 4. EDA Time:"
      ],
      "metadata": {
        "id": "DeNx9ON5kExM"
      }
    },
    {
      "cell_type": "markdown",
      "source": [
        "Before delving into EDA, let's convert the \"date\" column to Pandas dataframe."
      ],
      "metadata": {
        "id": "ElWYMecDkTaW"
      }
    },
    {
      "cell_type": "code",
      "source": [
        "data['date'] = pd.to_datetime(data['date'], format='ISO8601')"
      ],
      "metadata": {
        "id": "qn_vC0sihbHi"
      },
      "execution_count": null,
      "outputs": []
    },
    {
      "cell_type": "code",
      "source": [
        "data.date"
      ],
      "metadata": {
        "id": "5hRoY795nwOW"
      },
      "execution_count": null,
      "outputs": []
    },
    {
      "cell_type": "markdown",
      "source": [
        "#### a. Magnitude of earthquakes ![earthquake.png](data:image/png;base64,iVBORw0KGgoAAAANSUhEUgAAABgAAAAYCAYAAADgdz34AAAABHNCSVQICAgIfAhkiAAAAAlwSFlzAAAAsQAAALEBxi1JjQAAABl0RVh0U29mdHdhcmUAd3d3Lmlua3NjYXBlLm9yZ5vuPBoAAASqSURBVEiJjZVbbBRlFMd/3ze7O7uzbXdZerH0QkopIEEIWIw+GG4JhhCU4CWiURI14YEHY6KJ0QSqL+gLL/CgvpkoqRAvEYOJGlMkxWjEYhWkkUIvoS20bLvtdju7OzPHh91ud9uCnmSSmfOd8/+f73zn+4/if5pMXT8BHCpyeQhbVcWK8/fK890TdHAwhnL2oGU3SbUW00vjVybTqhfxenBVkwwOXlYNDfG7YahFgW9fLiNrHULJ24QoX1COC6QBB4AUyHFsjqrm5sR/EsjItXW4+mugqQC6WBkOIMWJXMfnPbH6x+adILuUyKWe5403fAAH3/9gn6PkudaWlbfPXYu/pA0xH1wRw/IZYN9l7wYQzpNMw6MdtStiQbkEogElSlmFTWc85wBKHh9O2gwlZ0CgMRpmedQq3avOv3v5NiXnvn+P+9nRpI314Zyre4xCAwCoqqnBDIcAwc06/HKllwt2il2tDxAts3KRwaL2zOSJimxro2BotZAgZoVq5nfgq7Egl7MhNo1P5giy5J5Zu/4hMvQNxNblHZ9QfFhRvxstEFSWh1aMzyOwspNEp2aAlfO5c5a4xDbzY1qS/Wzj7ILl6oC7DEBLb2/E8vuWLkTQeGquosyv3+JNjJZErHe6WO1epcEdXpBtGRKRGzeimpB+GKX0/ICpQISJJfWFb/+GLSjDINt9bq5Kb4QICSxJLSBQiMKUh3yI1ANkshk8zwVP8FyheeIqxsAAbNibSzAtPDsFztxBdPs30SRD1Eo/AD8PKcxibRCp833Wc3OVa1WMVAeygaXlodnBI202SVVjvforw7A7MeO/P5DZpEJh/qhrHbzY1Zdt8e/jNemMusHqJDzCfmOgIuIyE1ZeFqAs5KY7b6VM3z+jqWXZTOa+cKSMiYwbK7AHLAhAbyLdOJmO/70makPQoqEsVnEmMWSNqHp/qGwV2MQAVhkD4BDNywcAnbZR7ls9PXChPjm4nfljVGqR/sqlXU1b9mysgcjB1qaJG99/Pq3HnEW1bNb6w8tTarxtb9RU5piO1RoAXjw/EZ4LypgbbcN3M7j/zZgyQ0H7i+O/yfjI5vmAurIOshm8xCiAY5tepQJIvfNsB8iW4mBvegIVCKH8Jmh9M/jM634VjlTZX564KPHh1tk4dyqODoZzccWm5Efr8KkdGkCEY0UrKO1Dh5cUknwbt49k/zxf7d0ZEuW5JW0xymMLwQERfQzy8mUdaT8DdALoSAxd14wKzgmdc/GHdbqqoVtX1mvzyVc36WhNVwmaaeFbvhYVLSjOT9bh9rMFAqUQLcaLwJSXuIM72IPY0yUQ2Y7T9WQzGTzXEaWcEoJ0Cqf/CjJxCwUJJeqAUrm/ReEGB9tOXkfJLuZEGM9O4k0nQDFl7n45LpmZlH3yaK+Mj2wW18Gzk8yzFKL2htra+2YdJRJhHT7VifJ2Av0AOliGDkcAPUPadtyBK32SnlmT27VGGf7i9D6EHaG29o5i56JzHH/v6UjQVu+i1CvA7GGIrmvp9CZvVzCVWF9aNR+F8B1RbZ9Ozse650WZanuhWuvMUwp5DFFrgdr80jBwWRTfeT7vdPlbp0fvhvEvQW3VXzJRQz4AAAAASUVORK5CYII=):"
      ],
      "metadata": {
        "id": "7wlrdWdwsCm9"
      }
    },
    {
      "cell_type": "code",
      "source": [
        "# Extract the year\n",
        "year = pd.to_numeric(data.date.dt.year)\n",
        "\n",
        "# Extract the magnitude\n",
        "magnitude = data.magnitudo\n",
        "df = pd.DataFrame({\n",
        "    'year': year,\n",
        "    'magnitude': magnitude\n",
        "})\n",
        "df = df[df['magnitude'] >= 0]\n",
        "\n",
        "sns.histplot(data=df, x='year', weights='magnitude', bins=10, kde=True)\n",
        "plt.xlabel(\"Year\")\n",
        "plt.ylabel(\"Magnitude\")\n"
      ],
      "metadata": {
        "id": "-ky5S07nr53k"
      },
      "execution_count": null,
      "outputs": []
    },
    {
      "cell_type": "code",
      "source": [
        "data[\"magnitudo\"].plot(kind = \"line\", style = \".\", title =\"Magnitudo trend by year\", figsize =(16,5))\n",
        "plt.show()"
      ],
      "metadata": {
        "id": "u18Ixv0Subah"
      },
      "execution_count": null,
      "outputs": []
    },
    {
      "cell_type": "markdown",
      "source": [
        "**Inferences** ![inferential-statistics.png](data:image/png;base64,iVBORw0KGgoAAAANSUhEUgAAABgAAAAYCAYAAADgdz34AAAACXBIWXMAAACxAAAAsQHGLUmNAAAAGXRFWHRTb2Z0d2FyZQB3d3cuaW5rc2NhcGUub3Jnm+48GgAABDFJREFUSImtlWtsk1UYx3/vZe371t4vwLp1WyZDJhJEJCACJoI6mImgmCkSSDCRRKJBTEA/MITITQmYGA3hgwnouCgusWCEiZjAYBGWDQWZW+hGB1kJ3aWDtfalb/v6oYuBsWwM/X861//vnOc85xwYWjJgHmbMg8uvqtsCqiVWoKjHgdH/l2+Jf9RDNS67+dIkp/urE+WvGGfnvWwUqJbLgDpSM1FV1Rmqqr4D2FRVfmryeO+Zmj2LnpswzluYAQHgybwAlROnFLlk06qRAmSb1bZOVdTZ4avhOp9D+bqmqsLr9VoRBARNTycqz9WlfIpixLRkxiQK0wbMnwBUAyXATODMPQAAl8Olh6+G88cVOx1erxUAQRAEvFK0Q4/vbNNu6je6+4KpFOcHzHcA3UAIuDLoDu4o65qW/reyo3KO0toeWw8QPPpXev+PzS3Ab/3dEvABMA14CVgAdAwGEO8oXw9HbkXa2roAmDJxDK+Wj2fhCyVcbO7qSqep6R83FfgFSPSbF9m9/tXu/LEtrsAjwaEAtHf0VZQtOxQ5erzZ6O1N8MeFDuYvOdBzoyexAdCAXcBaYCmwEzCAvFmLVxe+921LiWxSpg8VIoCmlnBs0vK1NR9LojAVjPbr3YkvdZ1ZQBDYpDhtoxSfc6NulpS+i1e2DBaWoQAA0UhnYgUQAFYC64DPgPVARrZbGufs+vDxuhOn0K5F61KxePtIADLwIrC8f/u7gS1kQ2kB+kTAN6kE8+UWELP3ZCSANf1tbwPXgNEOu9I2+VFf/PemG+6eXs06nOFAiQPqm4GN/eYAOU9P9Sd/Pbg4v7TYBQy/4iEBqiQtfNjuPD3R6WkostrfvX8bg0hLI1r8pgkovbPnrhB5FPWZndNnz8gVc1h59mTySvYZGE6WU998YlaiF3hr2evW8w31da2hUHtra2gOEL0ni2w5JhxSzv2tWze8+YHA+z8EjwiFRUUAUiqVcvx87NhjGz6qbAiFQkWDpel9y0jcXrHpi60um90OQFdnJxVvLCXW0yPMe75sTHV19fJ7AJFEnIwoY2TTlHg8Jbe2x0gm0wJABrgZjpDq7CWt6568vDxhblk5Y4uL6eruxlM6E2fkIvPml8unT9e+dhfgupY8vPZcbcAiikosdbsK6P6zufPosxUHrJJsJIBM6lZ89+EFa+amFUmx2WyTXS5XrsNuJ6fgCXz+FFq4gf1Ve6g9WYthGH0ygCRJosPm+NRkMvUkgSRo5JgW+SzWRQAJDdCw+Dy+7KEn0pBIa3E9/ffhYDB5cN9eZcmyN3G7Xeyv2oOiqHx/6LtkU9Olz+WMnkkLgiDkjskd+JkMK7fbLWzbutlcUFhg1Px0JBvCTIYd27dr9fX1jbquHxeAQrI/0gPL7/cvMZnNZV6PR4xGozKiuC/c1rYK0P+L72CyD2z4Byf6g+erJrxGAAAAAElFTkSuQmCC)\n",
        "\n",
        "* The histogram shows that the magnitude of earthquakes is distributed over a wide range, from about 2 to 9. There is a peak in the number of earthquakes with a magnitude of about 5. The number of earthquakes with a magnitude of 7 or higher is relatively low.\n",
        "\n",
        "* The histogram also shows that the magnitude of earthquakes has been increasing over time. This is likely due to the improved ability of scientists to detect and record earthquakes.\n",
        "\n",
        "* The line-graph shows, the magnitude of earthquakes has been increasing over time, but the increase is not linear. There are some years with no earthquakes recorded, and the number of earthquakes with a magnitude of 7 or higher is relatively low.\n",
        "<br>\n",
        "<br>\n",
        "\n",
        "\n",
        "The increase in the magnitude of earthquakes could be due to a number of factors, such as:\n",
        "- Increased urbanization and development, which can lead to more earthquakes due to the stress placed on the Earth's crust.\n",
        "<br>\n",
        "- Climate change, which can cause the Earth's crust to shift and move, leading to earthquakes.\n",
        "<br>\n",
        "- Plate tectonics, the movement of the Earth's tectonic plates, which can cause earthquakes when they collide or rub against each other.\n",
        "<br>\n",
        "<br>\n",
        "The relatively low number of earthquakes with a magnitude of 7 or higher could be due to a number of factors, such as:\n",
        "- The Earth's crust is not evenly distributed, and some areas are more prone to earthquakes than others.\n",
        "<br>\n",
        "<br>\n",
        "- The monitoring of earthquakes has improved over time, so we are more likely to detect smaller earthquakes.\n",
        "<br>\n",
        "<br>\n",
        "- The effects of climate change may have reduced the number of large earthquakes."
      ],
      "metadata": {
        "id": "K3gZhWD0ur-Y"
      }
    },
    {
      "cell_type": "markdown",
      "source": [
        "#### b) Locating the places of earthquakes 🌍:\n",
        "(***To be run, only if you are working with GPU***)"
      ],
      "metadata": {
        "id": "6VGJ40qTseFB"
      }
    },
    {
      "cell_type": "code",
      "source": [
        "import folium\n",
        "import folium\n",
        "\n",
        "# Create a new DataFrame with the latitude and longitude columns\n",
        "df = pd.DataFrame({\n",
        "    \"latitude\": data.latitude,\n",
        "    \"longitude\": data.longitude,\n",
        "    \"magnitude\": data.magnitudo\n",
        "})\n",
        "df = df.sort_values(by='magnitude', ascending=False).head(1000)"
      ],
      "metadata": {
        "id": "c0PlugGnw1SF"
      },
      "execution_count": null,
      "outputs": []
    },
    {
      "cell_type": "code",
      "source": [
        "from folium.plugins import MarkerCluster\n",
        "\n",
        "map = folium.Map(location=[0, 0], zoom_start=2)\n",
        "marker_cluster = MarkerCluster().add_to(map)\n",
        "\n",
        "for latitude, longitude, magnitude in zip(df.latitude, df.longitude, df.magnitude):\n",
        "    folium.CircleMarker(\n",
        "        location=[latitude, longitude],\n",
        "        radius=magnitude * 1.5,  # scaled down\n",
        "        color='red',\n",
        "        fill=True,\n",
        "        fill_opacity=0.7\n",
        "    ).add_to(marker_cluster)\n",
        "\n",
        "map\n"
      ],
      "metadata": {
        "id": "rCo3KduLS2q0"
      },
      "execution_count": null,
      "outputs": []
    },
    {
      "cell_type": "code",
      "source": [
        "import pandas as pd\n",
        "import plotly.graph_objects as go\n",
        "\n",
        "# Create a new DataFrame with correct column names\n",
        "df = pd.DataFrame({\n",
        "    \"latitude\": data['latitude'],\n",
        "    \"longitude\": data['longitude'],\n",
        "    \"magnitude\": data['magnitudo']\n",
        "})\n",
        "\n",
        "# Drop rows with NaNs\n",
        "df = df.dropna(subset=['latitude', 'longitude', 'magnitude'])\n",
        "\n",
        "# Ensure all magnitudes are non-negative and size is reasonable\n",
        "df['size'] = df['magnitude'].clip(lower=0) * 3  # Adjust multiplier for better marker sizes\n",
        "\n",
        "# Create a single Scattergeo trace\n",
        "fig = go.Figure(\n",
        "    data=go.Scattergeo(\n",
        "        lat=df['latitude'],\n",
        "        lon=df['longitude'],\n",
        "        mode='markers',\n",
        "        marker=dict(\n",
        "            size=df['size'],\n",
        "            color='red',\n",
        "            opacity=0.6,\n",
        "        ),\n",
        "        text=df['magnitude'],  # Optional: hover text\n",
        "    ),\n",
        "    layout=go.Layout(\n",
        "        title=\"Earthquakes (1990–2023)\",\n",
        "        geo=dict(showland=True, landcolor='rgb(217, 217, 217)'),\n",
        "        margin=dict(l=0, r=0, t=30, b=0)\n",
        "    )\n",
        ")\n",
        "\n",
        "# Show the map\n",
        "fig.show()\n"
      ],
      "metadata": {
        "id": "FMfdYCTIAQZE",
        "collapsed": true
      },
      "execution_count": null,
      "outputs": []
    },
    {
      "cell_type": "markdown",
      "source": [
        "#### c). Top states with highest earthquakes:"
      ],
      "metadata": {
        "id": "vREyHmIA_cw-"
      }
    },
    {
      "cell_type": "code",
      "source": [
        "# Get the top 5 states with the highest number of earthquakes\n",
        "top_5_states = (\n",
        "    data.groupby(\"state\")\n",
        "    .size()\n",
        "    .to_frame(name=\"count\")\n",
        "    .reset_index()\n",
        "    .sort_values(by=[\"count\"], ascending=False)\n",
        "    .head(5)[\"state\"]\n",
        ")\n",
        "\n",
        "# Get the unique values of the top 5 states\n",
        "top_5_states_unique = top_5_states.unique()\n",
        "\n",
        "# Print the unique values\n",
        "print(top_5_states_unique)"
      ],
      "metadata": {
        "id": "nYut0AY3QPYN"
      },
      "execution_count": null,
      "outputs": []
    },
    {
      "cell_type": "code",
      "source": [
        "print(data['place'].head(10))\n",
        "# This will create a new 'state' column by extracting the word after the last comma\n",
        "data['state'] = data['place'].str.extract(r',\\s*([\\w\\s]+)$')\n",
        "\n",
        "# Drop rows where state couldn't be extracted (no comma in place string)\n",
        "data = data.dropna(subset=['state'])"
      ],
      "metadata": {
        "id": "LCMneH_Zdgdj"
      },
      "execution_count": null,
      "outputs": []
    },
    {
      "cell_type": "code",
      "source": [
        "top_5_states = (\n",
        "    data['state']\n",
        "    .value_counts()\n",
        "    .head(5)\n",
        "    .reset_index(name='count')\n",
        "    .rename(columns={'index': 'state'})\n",
        ")\n",
        "\n",
        "import plotly.express as px\n",
        "\n",
        "fig = px.bar(\n",
        "    top_5_states,\n",
        "    x='state',\n",
        "    y='count',\n",
        "    title='Top 5 States with the Highest Number of Earthquakes (1990–2023)',\n",
        "    labels={'count': 'Earthquake Count', 'state': 'State'},\n",
        "    color='state'\n",
        ")\n",
        "\n",
        "fig.show()"
      ],
      "metadata": {
        "id": "HheAiWZ7PZjJ"
      },
      "execution_count": null,
      "outputs": []
    },
    {
      "cell_type": "markdown",
      "source": [
        "California is occuring twice."
      ],
      "metadata": {
        "id": "u_-YAteePdzv"
      }
    },
    {
      "cell_type": "markdown",
      "source": [
        "#### d) Bottom 5 states with lowest amount of earthquakes."
      ],
      "metadata": {
        "id": "Yo1krlvcQx1K"
      }
    },
    {
      "cell_type": "code",
      "source": [
        "import plotly.express as px\n",
        "\n",
        "# Get the bottom 5 states by number of earthquakes\n",
        "bottom_5_states = (\n",
        "    data.groupby(\"state\")\n",
        "    .size()\n",
        "    .reset_index(name=\"count\")\n",
        "    .sort_values(by=\"count\", ascending=True)\n",
        "    .head(5)\n",
        ")\n",
        "\n",
        "# Plot the bar chart\n",
        "fig = px.bar(\n",
        "    bottom_5_states,\n",
        "    x=\"state\",\n",
        "    y=\"count\",\n",
        "    title=\"Bottom 5 States with the Highest Number of Earthquakes (1990–2023)\",\n",
        "    labels={\"state\": \"State\", \"count\": \"Earthquake Count\"},\n",
        "    color=\"state\"  # Optional: adds color for each bar\n",
        ")\n",
        "\n",
        "fig.show()\n"
      ],
      "metadata": {
        "id": "YT-7kIHDS1OK"
      },
      "execution_count": null,
      "outputs": []
    },
    {
      "cell_type": "markdown",
      "source": [
        "#### e) Top 5 Strongest earthquakes:"
      ],
      "metadata": {
        "id": "wCoaAmwJWKCB"
      }
    },
    {
      "cell_type": "code",
      "source": [
        "# Get the top 5 strongest earthquakes\n",
        "top_5_earthquakes = (\n",
        "    data.sort_values(by=[\"magnitudo\"], ascending=False)\n",
        "    .head(5)\n",
        ")\n",
        "\n",
        "# Create a map of the earthquakes\n",
        "fig = px.scatter_geo(\n",
        "    top_5_earthquakes,\n",
        "    lat=\"latitude\",  # Make sure to use the correct latitude column name\n",
        "    lon=\"longitude\",  # Make sure to use the correct longitude column name\n",
        "    size=\"magnitudo\",\n",
        "    color=\"magnitudo\",\n",
        "    title=\"Top 5 Strongest Earthquakes (1990-2023)\",\n",
        ")\n",
        "\n",
        "# Display the map\n",
        "fig.show()"
      ],
      "metadata": {
        "id": "3OJCZ1kLTRDc"
      },
      "execution_count": null,
      "outputs": []
    },
    {
      "cell_type": "markdown",
      "source": [
        "The size of the marker on the map represents the magnitude of the earthquake. The color of the marker also represents the magnitude of the earthquake, with red representing the strongest earthquakes and blue representing the weakest earthquakes."
      ],
      "metadata": {
        "id": "pzDGzhSAWgMz"
      }
    },
    {
      "cell_type": "markdown",
      "source": [
        "## 5. Modelling Time:\n",
        "\n",
        "We will create a simple Linear Regression model as the data is continuous."
      ],
      "metadata": {
        "id": "DW7R7vIfeWaY"
      }
    },
    {
      "cell_type": "code",
      "source": [
        "# Preprocess the data (drop \"place\" column and keep only numerical features)\n",
        "numerical_columns = [\"magnitudo\", \"depth\", \"latitude\", \"longitude\"]\n",
        "data_numeric = data[numerical_columns]\n",
        "\n",
        "# Separate input features (X) and target variable (y)\n",
        "X = data_numeric.drop(columns=[\"magnitudo\"])\n",
        "y = data_numeric[\"magnitudo\"]\n",
        "\n",
        "# Split the data into a training set and a test set\n",
        "X_train, X_test, y_train, y_test = train_test_split(X, y, test_size=0.25)\n",
        "\n",
        "# Create the Linear Regression model\n",
        "model = LinearRegression()\n",
        "\n",
        "# Train the model\n",
        "model.fit(X_train, y_train)\n",
        "\n",
        "# Predict using the model\n",
        "y_pred = model.predict(X_test)\n",
        "\n",
        "# Calculate the mean squared error\n",
        "mse = mean_squared_error(y_test, y_pred)\n",
        "\n",
        "# Print the mean squared error\n",
        "print(\"Mean Squared Error:\", mse)"
      ],
      "metadata": {
        "id": "IvyZmYszbT9S"
      },
      "execution_count": null,
      "outputs": []
    },
    {
      "cell_type": "code",
      "source": [
        "y_pred = model.predict(X_test)"
      ],
      "metadata": {
        "id": "AtcQm0ppeVnI"
      },
      "execution_count": null,
      "outputs": []
    },
    {
      "cell_type": "code",
      "source": [
        "for i, (actual, predicted) in enumerate(zip(y_test, y_pred), 1):\n",
        "    if i % 1000 == 0:\n",
        "        print(f\"Iteration: {i}  |  Actual Magnitude: {actual:.2f}  |  Predicted Magnitude: {predicted:.2f}\")"
      ],
      "metadata": {
        "id": "R1O1vNpSf7AK"
      },
      "execution_count": null,
      "outputs": []
    },
    {
      "cell_type": "code",
      "source": [
        "plt.figure(figsize=(10, 6))\n",
        "plt.scatter(y_test, y_pred, color='blue')\n",
        "plt.xlabel(\"Actual Magnitude\")\n",
        "plt.ylabel(\"Predicted Magnitude\")\n",
        "plt.title(\"Actual vs. Predicted Earthquake Magnitudes\")\n",
        "plt.show()"
      ],
      "metadata": {
        "id": "6nWLvZeygJlH"
      },
      "execution_count": null,
      "outputs": []
    },
    {
      "cell_type": "markdown",
      "source": [
        "### Inferences: ![inferential-statistics.png](data:image/png;base64,iVBORw0KGgoAAAANSUhEUgAAABgAAAAYCAYAAADgdz34AAAACXBIWXMAAACxAAAAsQHGLUmNAAAAGXRFWHRTb2Z0d2FyZQB3d3cuaW5rc2NhcGUub3Jnm+48GgAABDFJREFUSImtlWtsk1UYx3/vZe371t4vwLp1WyZDJhJEJCACJoI6mImgmCkSSDCRRKJBTEA/MITITQmYGA3hgwnouCgusWCEiZjAYBGWDQWZW+hGB1kJ3aWDtfalb/v6oYuBsWwM/X861//vnOc85xwYWjJgHmbMg8uvqtsCqiVWoKjHgdH/l2+Jf9RDNS67+dIkp/urE+WvGGfnvWwUqJbLgDpSM1FV1Rmqqr4D2FRVfmryeO+Zmj2LnpswzluYAQHgybwAlROnFLlk06qRAmSb1bZOVdTZ4avhOp9D+bqmqsLr9VoRBARNTycqz9WlfIpixLRkxiQK0wbMnwBUAyXATODMPQAAl8Olh6+G88cVOx1erxUAQRAEvFK0Q4/vbNNu6je6+4KpFOcHzHcA3UAIuDLoDu4o65qW/reyo3KO0toeWw8QPPpXev+PzS3Ab/3dEvABMA14CVgAdAwGEO8oXw9HbkXa2roAmDJxDK+Wj2fhCyVcbO7qSqep6R83FfgFSPSbF9m9/tXu/LEtrsAjwaEAtHf0VZQtOxQ5erzZ6O1N8MeFDuYvOdBzoyexAdCAXcBaYCmwEzCAvFmLVxe+921LiWxSpg8VIoCmlnBs0vK1NR9LojAVjPbr3YkvdZ1ZQBDYpDhtoxSfc6NulpS+i1e2DBaWoQAA0UhnYgUQAFYC64DPgPVARrZbGufs+vDxuhOn0K5F61KxePtIADLwIrC8f/u7gS1kQ2kB+kTAN6kE8+UWELP3ZCSANf1tbwPXgNEOu9I2+VFf/PemG+6eXs06nOFAiQPqm4GN/eYAOU9P9Sd/Pbg4v7TYBQy/4iEBqiQtfNjuPD3R6WkostrfvX8bg0hLI1r8pgkovbPnrhB5FPWZndNnz8gVc1h59mTySvYZGE6WU998YlaiF3hr2evW8w31da2hUHtra2gOEL0ni2w5JhxSzv2tWze8+YHA+z8EjwiFRUUAUiqVcvx87NhjGz6qbAiFQkWDpel9y0jcXrHpi60um90OQFdnJxVvLCXW0yPMe75sTHV19fJ7AJFEnIwoY2TTlHg8Jbe2x0gm0wJABrgZjpDq7CWt6568vDxhblk5Y4uL6eruxlM6E2fkIvPml8unT9e+dhfgupY8vPZcbcAiikosdbsK6P6zufPosxUHrJJsJIBM6lZ89+EFa+amFUmx2WyTXS5XrsNuJ6fgCXz+FFq4gf1Ve6g9WYthGH0ygCRJosPm+NRkMvUkgSRo5JgW+SzWRQAJDdCw+Dy+7KEn0pBIa3E9/ffhYDB5cN9eZcmyN3G7Xeyv2oOiqHx/6LtkU9Olz+WMnkkLgiDkjskd+JkMK7fbLWzbutlcUFhg1Px0JBvCTIYd27dr9fX1jbquHxeAQrI/0gPL7/cvMZnNZV6PR4xGozKiuC/c1rYK0P+L72CyD2z4Byf6g+erJrxGAAAAAElFTkSuQmCC)\n",
        "\n",
        "The model does not seem to be perfomring very bad. The Mean Squared Error is almost 0.9.\n",
        "\n",
        "The predicted values are almost close to the actual values."
      ],
      "metadata": {
        "id": "1NqHYqi7hHy5"
      }
    }
  ]
}